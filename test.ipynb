{
 "cells": [
  {
   "cell_type": "code",
   "execution_count": 30,
   "metadata": {},
   "outputs": [
    {
     "name": "stdout",
     "output_type": "stream",
     "text": [
      "['<motion_id_512', 'motion_id_423', 'motion_id_423', 'motion_id_423', 'motion_id_423', 'motion_id_423', 'motion_id_423', 'motion_id_423', 'motion_id_423', 'motion_id_233', 'motion_id_492', 'motion_id_439', 'motion_id_301', 'motion_id_78', 'motion_id_309', 'motion_id_326', 'motion_id_364', 'motion_id_395', 'motion_id_301', 'motion_id_263', 'motion_id_309', 'motion_id_239', 'motion_id_389', 'motion_id_154', 'motion_id_301', 'motion_id_421', 'motion_id_421', 'motion_id_513>']\n",
      "<motion_id_239><motion_id_301><motion_id_421><motion_id_389><motion_id_513><motion_id_154><motion_id_423><motion_id_421><motion_id_326><motion_id_439><motion_id_364><motion_id_512><motion_id_423><motion_id_78><motion_id_423><motion_id_301><motion_id_423><motion_id_492><motion_id_423><motion_id_423><motion_id_309><motion_id_233><motion_id_423><motion_id_263><motion_id_423><motion_id_395><motion_id_309><motion_id_301>\n"
     ]
    }
   ],
   "source": [
    "import random\n",
    "\n",
    "# 모션 토큰 문자열\n",
    "motion_string = \"<motion_id_512><motion_id_423><motion_id_423><motion_id_423><motion_id_423><motion_id_423><motion_id_423><motion_id_423><motion_id_423><motion_id_233><motion_id_492><motion_id_439><motion_id_301><motion_id_78><motion_id_309><motion_id_326><motion_id_364><motion_id_395><motion_id_301><motion_id_263><motion_id_309><motion_id_239><motion_id_389><motion_id_154><motion_id_301><motion_id_421><motion_id_421><motion_id_513>\"\n",
    "\n",
    "# 모션 토큰을 리스트로 분리\n",
    "motion_tokens = motion_string.split('><')\n",
    "print(motion_tokens)\n",
    "motion_tokens = [f'<{token.replace(\">\", \"\").replace(\"<\",\"\")}>' if ('<' in token or '>' in token) else f'<{token}>' for token in motion_tokens]\n",
    "\n",
    "# 랜덤으로 시퀀스 섞기\n",
    "random.shuffle(motion_tokens)\n",
    "\n",
    "# 섞인 시퀀스를 다시 문자열로 결합\n",
    "shuffled_motion_string = ''.join(motion_tokens)\n",
    "\n",
    "# 결과 출력\n",
    "print(shuffled_motion_string)\n"
   ]
  }
 ],
 "metadata": {
  "kernelspec": {
   "display_name": "venv_mogpt",
   "language": "python",
   "name": "python3"
  },
  "language_info": {
   "codemirror_mode": {
    "name": "ipython",
    "version": 3
   },
   "file_extension": ".py",
   "mimetype": "text/x-python",
   "name": "python",
   "nbconvert_exporter": "python",
   "pygments_lexer": "ipython3",
   "version": "3.8.10"
  }
 },
 "nbformat": 4,
 "nbformat_minor": 2
}
